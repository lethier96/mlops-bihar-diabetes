{
 "cells": [
  {
   "cell_type": "code",
   "execution_count": null,
   "outputs": [],
   "source": [
    "import pandas as pd\n",
    "import matplotlib.pyplot as plt\n",
    "import seaborn as sns"
   ],
   "metadata": {
    "collapsed": false
   },
   "id": "38f07a3df0e8f932"
  },
  {
   "cell_type": "code",
   "execution_count": null,
   "outputs": [],
   "source": [
    "import common"
   ],
   "metadata": {
    "collapsed": false
   },
   "id": "7355f709697c96d"
  },
  {
   "cell_type": "code",
   "execution_count": null,
   "outputs": [],
   "source": [
    "from sklearn.datasets import load_diabetes\n",
    "\n",
    "X, y = load_diabetes(return_X_y=True, as_frame=True, scaled=True)\n",
    "X.columns = ['age', 'sex', 'bmi', 'bp', 'tc', 'ldl', 'hdl', 'tch', 'ltg', 'glu']\n",
    "display(X.shape)\n",
    "X.head()"
   ],
   "metadata": {
    "collapsed": false
   },
   "id": "90329db0fa6c08cf"
  },
  {
   "cell_type": "code",
   "execution_count": null,
   "outputs": [],
   "source": [
    "X.describe()"
   ],
   "metadata": {
    "collapsed": false
   },
   "id": "7060e9b24e9dfbc6"
  },
  {
   "cell_type": "code",
   "execution_count": null,
   "outputs": [],
   "source": [
    "data = pd.concat([X,y], axis=1)"
   ],
   "metadata": {
    "collapsed": false
   },
   "id": "496fef549f92a562"
  },
  {
   "cell_type": "code",
   "execution_count": null,
   "outputs": [],
   "source": [
    "sns.pairplot(X);"
   ],
   "metadata": {
    "collapsed": false
   },
   "id": "89787e80ad3224c1"
  },
  {
   "cell_type": "code",
   "execution_count": null,
   "outputs": [],
   "source": [
    "# Plot the target distribution\n",
    "sns.displot(y, kde=True, height=4, aspect=2)\n",
    "plt.title(\"Target distribution\");"
   ],
   "metadata": {
    "collapsed": false
   },
   "id": "760f7ecd70a4dd70"
  },
  {
   "cell_type": "code",
   "execution_count": null,
   "outputs": [],
   "source": [
    "X.isna().any()"
   ],
   "metadata": {
    "collapsed": false
   },
   "id": "f2cbd22723145c0e"
  },
  {
   "cell_type": "code",
   "execution_count": null,
   "outputs": [],
   "source": [
    "cmap_corr = sns.diverging_palette(20, 220, n=200)\n",
    "sns.heatmap(pd.concat([X,y], axis=1).corr(), cmap=cmap_corr, vmin=-1, vmax=1, annot=True, fmt='.2f');"
   ],
   "metadata": {
    "collapsed": false
   },
   "id": "9c97b01bdb9be870"
  },
  {
   "cell_type": "code",
   "execution_count": null,
   "outputs": [],
   "source": [
    "from sklearn.model_selection import train_test_split\n",
    "\n",
    "data_train, data_test = train_test_split(data, test_size=0.2, random_state=common.RANDOM_STATE)\n",
    "display(data_train.shape, data_test.shape)"
   ],
   "metadata": {
    "collapsed": false
   },
   "id": "d309d6b13643190c"
  },
  {
   "cell_type": "code",
   "execution_count": null,
   "outputs": [],
   "source": [
    "import sqlite3\n",
    "import os\n",
    "\n",
    "db_dir = os.path.dirname(common.DB_PATH)\n",
    "if not os.path.exists(db_dir):\n",
    "    os.makedirs(db_dir)\n",
    "\n",
    "print(f\"Saving train and test data to a database: {common.DB_PATH}\")\n",
    "with sqlite3.connect(common.DB_PATH) as con:\n",
    "    # cur = con.cursor()\n",
    "    # cur.execute(\"DROP TABLE IF EXISTS train\")\n",
    "    # cur.execute(\"DROP TABLE IF EXISTS test\")\n",
    "    data_train.to_sql(name='train', con=con, if_exists=\"replace\")\n",
    "    data_test.to_sql(name='test', con=con, if_exists=\"replace\")"
   ],
   "metadata": {
    "collapsed": false
   },
   "id": "c6135ccc6ce36e0b"
  },
  {
   "cell_type": "code",
   "execution_count": null,
   "outputs": [],
   "source": [
    "print(f\"Reading train data from the database: {common.DB_PATH}\")\n",
    "with sqlite3.connect(common.DB_PATH) as con:\n",
    "    cur = con.cursor()\n",
    "    res = cur.execute(\"SELECT * FROM train LIMIT 3\")\n",
    "    display(res.fetchall())"
   ],
   "metadata": {
    "collapsed": false
   },
   "id": "724a7a4b4733721c"
  }
 ],
 "metadata": {
  "kernelspec": {
   "display_name": "Python 3",
   "language": "python",
   "name": "python3"
  },
  "language_info": {
   "codemirror_mode": {
    "name": "ipython",
    "version": 2
   },
   "file_extension": ".py",
   "mimetype": "text/x-python",
   "name": "python",
   "nbconvert_exporter": "python",
   "pygments_lexer": "ipython2",
   "version": "2.7.6"
  }
 },
 "nbformat": 4,
 "nbformat_minor": 5
}
